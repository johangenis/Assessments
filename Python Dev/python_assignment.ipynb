{
 "cells": [
  {
   "cell_type": "markdown",
   "metadata": {},
   "source": [
    "# Overview\n",
    "This assignment is to test a few key attributes we are looking for in a new team member. Most of these questions are not realistic, however, we hope that they serve as a way for you to demonstrate how you work and organise yourself. The questions are intentionally brief and simple, since we know that this is not the only job opportunity you are exploring."
   ]
  },
  {
   "cell_type": "markdown",
   "metadata": {},
   "source": [
    "### Performance\n",
    "\n",
    "Suppose the `get_resource_identifier` function interrogates some cloud infrastructure to resolve the resource identifier from its name. Note that it takes a long time for the call to finish resolving the name.\n",
    "\n",
    "Now imagine that we need to resolve the resource by its name multiple times during deployment of infrastructure. How can we speed this up without modifying the body of the `get_resource_identifier` function? Remember, you have no control over how quickly the cloud provider can respond to your API call.\n"
   ]
  },
  {
   "cell_type": "code",
   "execution_count": 1,
   "metadata": {},
   "outputs": [
    {
     "name": "stdout",
     "output_type": "stream",
     "text": [
      "Original code: \n",
      "L9UKvnomjq\n",
      "7U9eyOv7M\n",
      "L9UKvnomjq\n",
      "Not found\n",
      "7U9eyOv7M\n",
      "L9UKvnomjq\n",
      "7U9eyOv7M\n",
      "L9UKvnomjq\n",
      "Not found\n",
      "7U9eyOv7M\n",
      "L9UKvnomjq\n",
      "7U9eyOv7M\n",
      "L9UKvnomjq\n",
      "Not found\n",
      "7U9eyOv7M\n",
      "L9UKvnomjq\n",
      "7U9eyOv7M\n",
      "L9UKvnomjq\n",
      "Not found\n",
      "7U9eyOv7M\n",
      "L9UKvnomjq\n",
      "7U9eyOv7M\n",
      "L9UKvnomjq\n",
      "Not found\n",
      "7U9eyOv7M\n",
      "L9UKvnomjq\n",
      "7U9eyOv7M\n",
      "L9UKvnomjq\n",
      "Not found\n",
      "7U9eyOv7M\n",
      "L9UKvnomjq\n",
      "7U9eyOv7M\n",
      "L9UKvnomjq\n",
      "Not found\n",
      "7U9eyOv7M\n",
      "L9UKvnomjq\n",
      "7U9eyOv7M\n",
      "L9UKvnomjq\n",
      "Not found\n",
      "7U9eyOv7M\n",
      "L9UKvnomjq\n",
      "7U9eyOv7M\n",
      "L9UKvnomjq\n",
      "Not found\n",
      "7U9eyOv7M\n",
      "L9UKvnomjq\n",
      "7U9eyOv7M\n",
      "L9UKvnomjq\n",
      "Not found\n",
      "7U9eyOv7M\n",
      "Original Code time: 50.141671646\n",
      "Refactored code: \n",
      "L9UKvnomjq\n",
      "7U9eyOv7M\n",
      "L9UKvnomjq\n",
      "Not found\n",
      "7U9eyOv7M\n",
      "L9UKvnomjq\n",
      "7U9eyOv7M\n",
      "L9UKvnomjq\n",
      "Not found\n",
      "7U9eyOv7M\n",
      "L9UKvnomjq\n",
      "7U9eyOv7M\n",
      "L9UKvnomjq\n",
      "Not found\n",
      "7U9eyOv7M\n",
      "L9UKvnomjq\n",
      "7U9eyOv7M\n",
      "L9UKvnomjq\n",
      "Not found\n",
      "7U9eyOv7M\n",
      "L9UKvnomjq\n",
      "7U9eyOv7M\n",
      "L9UKvnomjq\n",
      "Not found\n",
      "7U9eyOv7M\n",
      "L9UKvnomjq\n",
      "7U9eyOv7M\n",
      "L9UKvnomjq\n",
      "Not found\n",
      "7U9eyOv7M\n",
      "L9UKvnomjq\n",
      "7U9eyOv7M\n",
      "L9UKvnomjq\n",
      "Not found\n",
      "7U9eyOv7M\n",
      "L9UKvnomjq\n",
      "7U9eyOv7M\n",
      "L9UKvnomjq\n",
      "Not found\n",
      "7U9eyOv7M\n",
      "L9UKvnomjq\n",
      "7U9eyOv7M\n",
      "L9UKvnomjq\n",
      "Not found\n",
      "7U9eyOv7M\n",
      "L9UKvnomjq\n",
      "7U9eyOv7M\n",
      "L9UKvnomjq\n",
      "Not found\n",
      "7U9eyOv7M\n",
      "Refactored Code time: 50.145706732\n"
     ]
    }
   ],
   "source": [
    "import time\n",
    "import timeit\n",
    "print(\"Original code: \")\n",
    "original_code_test = '''\n",
    "def get_resource_identifier(name):\n",
    "    time.sleep(1)#simulate the delay\n",
    "    if name is 'foo':\n",
    "        return 'L9UKvnomjq'\n",
    "    if name is 'bar':\n",
    "        return '7U9eyOv7M'\n",
    "    return 'Not found'\n",
    "\n",
    "for _ in range(0,10):\n",
    "    print(get_resource_identifier('foo'))\n",
    "    print(get_resource_identifier('bar'))\n",
    "    print(get_resource_identifier('foo'))\n",
    "    print(get_resource_identifier('zoo'))\n",
    "    print(get_resource_identifier('bar'))\n",
    "'''\n",
    "\n",
    "elapsed_time = timeit.timeit(original_code_test, number=1)\n",
    "print(\"Original Code time:\", elapsed_time)\n",
    "\n",
    "import time\n",
    "print(\"Refactored code: \")\n",
    "refactored_code_test = '''\n",
    "names = ['foo', 'bar', 'foo', 'zoo', 'bar']\n",
    "\n",
    "def get_resource_identifier(name):\n",
    "    time.sleep(1) # simulate the delay\n",
    "    if name is 'foo':\n",
    "        return 'L9UKvnomjq'\n",
    "    if name is 'bar':\n",
    "        return '7U9eyOv7M'\n",
    "    return 'Not found'\n",
    "\n",
    "for _ in range(0,10):\n",
    "    for name in (names):\n",
    "        print(get_resource_identifier(name))\n",
    "'''\n",
    "\n",
    "elapsed_time = timeit.timeit(refactored_code_test, number=1)\n",
    "print(\"Refactored Code time:\", elapsed_time)"
   ]
  },
  {
   "cell_type": "markdown",
   "metadata": {},
   "source": [
    "### Readability and simplicity"
   ]
  },
  {
   "cell_type": "markdown",
   "metadata": {},
   "source": [
    "#### Refactor\n",
    "The section below is an opportunity for you to demonstrate how you refactor code into something simpler and more readable. Refactor the code and write some very simple sanity checks to show that the refactored version is equivalent to the ugly version. You may leave out tests where you think it is not needed."
   ]
  },
  {
   "cell_type": "code",
   "execution_count": 3,
   "metadata": {},
   "outputs": [],
   "source": [
    "# Don't modify this\n",
    "colours = ['blue','green','yellow','black','orange']\n",
    "fruits = ['berry','apple','banana','currant']\n",
    "# All of the rest below you may modify \n",
    "# as you please to achieve the desired output"
   ]
  },
  {
   "cell_type": "code",
   "execution_count": 4,
   "metadata": {},
   "outputs": [
    {
     "name": "stdout",
     "output_type": "stream",
     "text": [
      "Original list: \n",
      "orange\n",
      "black\n",
      "yellow\n",
      "green\n",
      "blue\n",
      "Refactored list: \n",
      "orange\n",
      "black\n",
      "yellow\n",
      "green\n",
      "blue\n"
     ]
    }
   ],
   "source": [
    "#ugly\n",
    "print(\"Original list: \")\n",
    "for i in range(len(colours)-1,-1,-1):\n",
    "    print(colours[i])\n",
    "\n",
    "#refactor below\n",
    "colours.reverse()\n",
    "print(\"Refactored list: \", *colours, sep = \"\\n\")"
   ]
  },
  {
   "cell_type": "code",
   "execution_count": 5,
   "metadata": {},
   "outputs": [
    {
     "name": "stdout",
     "output_type": "stream",
     "text": [
      "Original code: \n",
      "0 orange\n",
      "1 black\n",
      "2 yellow\n",
      "3 green\n",
      "4 blue\n",
      "Refactored code: \n",
      "0 orange\n",
      "1 black\n",
      "2 yellow\n",
      "3 green\n",
      "4 blue\n"
     ]
    }
   ],
   "source": [
    "#ugly\n",
    "print(\"Original code: \")\n",
    "for i in range(len(colours)):\n",
    "    print(i,colours[i])\n",
    "    \n",
    "#refactor below\n",
    "print(\"Refactored code: \")\n",
    "data = { i : colours[i] for i in range(0, len(colours) ) }\n",
    "for key, value in data.items():\n",
    "    print('{} {}'.format(key, value))\n"
   ]
  },
  {
   "cell_type": "code",
   "execution_count": 6,
   "metadata": {},
   "outputs": [
    {
     "name": "stdout",
     "output_type": "stream",
     "text": [
      "Original code: \n",
      "orange berry\n",
      "black apple\n",
      "yellow banana\n",
      "green currant\n",
      "Refactored code: \n",
      "orange berry\n",
      "black apple\n",
      "yellow banana\n",
      "green currant\n"
     ]
    }
   ],
   "source": [
    "#ugly\n",
    "print(\"Original code: \")\n",
    "min_length = min(len(colours),len(fruits))\n",
    "for i in range(min_length):\n",
    "    print(colours[i],fruits[i])\n",
    "    \n",
    "#refactor below\n",
    "print(\"Refactored code: \")\n",
    "dictionary = dict(zip(colours, fruits))\n",
    "for key, value in dictionary.items():\n",
    "    print('{} {}'.format(key, value))\n"
   ]
  },
  {
   "cell_type": "code",
   "execution_count": 7,
   "metadata": {},
   "outputs": [
    {
     "name": "stdout",
     "output_type": "stream",
     "text": [
      "pass\n"
     ]
    }
   ],
   "source": [
    "#ugly\n",
    "#you may deal with these variables in the abstract\n",
    "#you can give them values if you want to do some\n",
    "#sanity checks\n",
    "\n",
    "# if a <= b and f <= g and c<=d and d<=f and b<=c:\n",
    "#     print('pass')\n",
    "# else:\n",
    "#     print('fail')\n",
    "    \n",
    "#refactor below\n",
    "a=0\n",
    "b=1\n",
    "c=2\n",
    "d=3\n",
    "f=4\n",
    "g=5\n",
    "\n",
    "if a <= b and f <= g and c <= d and  d <= f and b <= c:\n",
    "    print('pass')\n",
    "else:\n",
    "    print('fail')"
   ]
  },
  {
   "cell_type": "markdown",
   "metadata": {},
   "source": [
    "#### Implement\n",
    "This section provides an opportunity to demonstrate how you would write some very simple things in a pythonic way."
   ]
  },
  {
   "cell_type": "markdown",
   "metadata": {},
   "source": [
    "Task1:"
   ]
  },
  {
   "cell_type": "code",
   "execution_count": 8,
   "metadata": {},
   "outputs": [
    {
     "name": "stdout",
     "output_type": "stream",
     "text": [
      "orange --> black --> yellow --> green --> blue\n"
     ]
    }
   ],
   "source": [
    "#Generate the following string from the colours list defined above:\n",
    "# 'blue --> green --> yellow --> black --> orange'\n",
    "print('{0} --> {1} --> {2} --> {3} --> {4}'.format(colours[0],colours[1],colours[2],colours[3],colours[4]))"
   ]
  },
  {
   "cell_type": "markdown",
   "metadata": {},
   "source": [
    "Task2"
   ]
  },
  {
   "cell_type": "code",
   "execution_count": 9,
   "metadata": {},
   "outputs": [
    {
     "name": "stdout",
     "output_type": "stream",
     "text": [
      "[8, 9, 66, 77]\n"
     ]
    }
   ],
   "source": [
    "# find the elements that exist in the first list but not the second\n",
    "# and the elements that exist in the second, but not in the first\n",
    "# put this result in into a single list and sort them in ascending order\n",
    "\n",
    "import numpy as np\n",
    "\n",
    "first = np.array([2,2,5,6,7,2,1,8,9,9])\n",
    "second = np.array([2,1,5,6,66,7,77])\n",
    "main_list = np.array(np.setdiff1d(second,first))\n",
    "main_list_1 = np.array(np.setdiff1d(first, second))\n",
    "final_list = np.concatenate((main_list, main_list_1), axis=0)\n",
    "print(sorted(final_list))"
   ]
  },
  {
   "cell_type": "code",
   "execution_count": null,
   "metadata": {},
   "outputs": [],
   "source": []
  }
 ],
 "metadata": {
  "kernelspec": {
   "display_name": "Python 3",
   "language": "python",
   "name": "python3"
  },
  "language_info": {
   "codemirror_mode": {
    "name": "ipython",
    "version": 3
   },
   "file_extension": ".py",
   "mimetype": "text/x-python",
   "name": "python",
   "nbconvert_exporter": "python",
   "pygments_lexer": "ipython3",
   "version": "3.7.2"
  }
 },
 "nbformat": 4,
 "nbformat_minor": 4
}
